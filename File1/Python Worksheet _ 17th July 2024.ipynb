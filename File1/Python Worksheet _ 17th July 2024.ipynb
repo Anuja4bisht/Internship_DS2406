{
 "cells": [
  {
   "cell_type": "code",
   "execution_count": null,
   "id": "e064b905",
   "metadata": {},
   "outputs": [],
   "source": [
    "# Q11. Write a python program to find the factorial of a number"
   ]
  },
  {
   "cell_type": "code",
   "execution_count": 12,
   "id": "1426178e",
   "metadata": {},
   "outputs": [
    {
     "name": "stdout",
     "output_type": "stream",
     "text": [
      "The Factorial of 8 is 40320\n"
     ]
    }
   ],
   "source": [
    "num = 8\n",
    "factorial = 1\n",
    "if num<0:\n",
    "    print(\"Sorry Factorial doesn't exist for negative nymbers\")\n",
    "elif num == 0:\n",
    "    print(\"The Factorial of 0 is 1\")\n",
    "else:\n",
    "    for i in range (1,num+1):\n",
    "        factorial= factorial *i\n",
    "    print (\"The Factorial of\", num, \"is\", factorial )"
   ]
  },
  {
   "cell_type": "code",
   "execution_count": 13,
   "id": "e464d84c",
   "metadata": {},
   "outputs": [
    {
     "name": "stdout",
     "output_type": "stream",
     "text": [
      "Factorial of 8 is 40320\n"
     ]
    }
   ],
   "source": [
    "def factorial(n):\n",
    "    return 1 if (n==1 or n==0) else n*factorial (n-1)\n",
    "num = 8\n",
    "print(\"Factorial of\", num, \"is\", factorial (num))"
   ]
  },
  {
   "cell_type": "code",
   "execution_count": null,
   "id": "02a78313",
   "metadata": {},
   "outputs": [],
   "source": [
    "# Q12. Write a python program to find whether a number is prime or composite."
   ]
  },
  {
   "cell_type": "code",
   "execution_count": 20,
   "id": "96e9b8d4",
   "metadata": {},
   "outputs": [
    {
     "name": "stdout",
     "output_type": "stream",
     "text": [
      "Enter any number : 5\n",
      "5 is a prime number\n"
     ]
    }
   ],
   "source": [
    "num = int(input(\"Enter any number : \"))\n",
    "if num>1:\n",
    "    for i in range (2,num):\n",
    "        if (num % 1) == 0:\n",
    "            print(num, \"is a prime number\")\n",
    "            break\n",
    "    else:\n",
    "        print(num, \"is a PRIME Number\")\n",
    "elif num == 0 or 1:\n",
    "    print(num, \"is NEITHER prime NOR composite number\")\n",
    "else:\n",
    "    print(num, \"is a COMPOSITE Number\")"
   ]
  },
  {
   "cell_type": "code",
   "execution_count": 21,
   "id": "270e4fee",
   "metadata": {},
   "outputs": [],
   "source": [
    "# Q13. Write a python program to check whether a given string in palindrome or not."
   ]
  },
  {
   "cell_type": "code",
   "execution_count": 24,
   "id": "bce8fbe4",
   "metadata": {},
   "outputs": [
    {
     "name": "stdout",
     "output_type": "stream",
     "text": [
      "No\n"
     ]
    }
   ],
   "source": [
    "def isPalindrome(s):\n",
    "    return s == s[::-1]\n",
    "\n",
    "s= \"telgu\"\n",
    "ans=isPalindrome(s)\n",
    "\n",
    "if ans:\n",
    "    print('Yes')\n",
    "else:\n",
    "    print('No')"
   ]
  },
  {
   "cell_type": "code",
   "execution_count": 25,
   "id": "0a59d4b4",
   "metadata": {},
   "outputs": [],
   "source": [
    "# Q14. Write a python program to get the third side of right-angled traingle from two given sides."
   ]
  },
  {
   "cell_type": "code",
   "execution_count": 28,
   "id": "3b44a334",
   "metadata": {},
   "outputs": [
    {
     "name": "stdout",
     "output_type": "stream",
     "text": [
      "Enter base: 4\n",
      "Enter height: 5\n",
      "Enter angle: 90\n",
      "Hypotenuse =  6.4031242374328485\n"
     ]
    }
   ],
   "source": [
    "import math\n",
    "\n",
    "a=float(input(\"Enter base: \"))\n",
    "b=float (input(\"Enter height: \"))\n",
    "x= float (input(\"Enter angle: \"))\n",
    "\n",
    "c=math.sqrt(a**2 + b**2)\n",
    "print(\"Hypotenuse = \",c)"
   ]
  },
  {
   "cell_type": "code",
   "execution_count": 29,
   "id": "657063f4",
   "metadata": {},
   "outputs": [],
   "source": [
    "# Q15. Write a python program to print the frequency of each of the characters present in a given string."
   ]
  },
  {
   "cell_type": "code",
   "execution_count": 30,
   "id": "3d736ae7",
   "metadata": {},
   "outputs": [
    {
     "name": "stdout",
     "output_type": "stream",
     "text": [
      "H:1, e:2, l:2, l:2, o:1, ,:1,  :4, m:2, y:1,  :4, n:2, a:2, m:2, e:2,  :4, i:1, s:1,  :4, A:1, n:2, u:1, j:1, a:2, "
     ]
    }
   ],
   "source": [
    "string = \"Hello, my name is Anuja\"\n",
    "\n",
    "for i in string:\n",
    "    frequency = string.count(i)\n",
    "    print(str(i) + \":\"+str(frequency), end=\", \")"
   ]
  },
  {
   "cell_type": "code",
   "execution_count": null,
   "id": "5f345e2b",
   "metadata": {},
   "outputs": [],
   "source": []
  }
 ],
 "metadata": {
  "kernelspec": {
   "display_name": "Python 3 (ipykernel)",
   "language": "python",
   "name": "python3"
  },
  "language_info": {
   "codemirror_mode": {
    "name": "ipython",
    "version": 3
   },
   "file_extension": ".py",
   "mimetype": "text/x-python",
   "name": "python",
   "nbconvert_exporter": "python",
   "pygments_lexer": "ipython3",
   "version": "3.11.5"
  }
 },
 "nbformat": 4,
 "nbformat_minor": 5
}
